{
  "nbformat": 4,
  "nbformat_minor": 0,
  "metadata": {
    "colab": {
      "private_outputs": true,
      "provenance": [],
      "authorship_tag": "ABX9TyPXaovinujCQYAKrijZEczg",
      "include_colab_link": true
    },
    "kernelspec": {
      "name": "python3",
      "display_name": "Python 3"
    },
    "language_info": {
      "name": "python"
    },
    "accelerator": "GPU",
    "gpuClass": "standard"
  },
  "cells": [
    {
      "cell_type": "markdown",
      "metadata": {
        "id": "view-in-github",
        "colab_type": "text"
      },
      "source": [
        "<a href=\"https://colab.research.google.com/github/acrismail/Ev_Fiyat_Tahmin_Yar-mas-/blob/main/Ev_Fiyat_Tahmin_Yar%C4%B1%C5%9Fmas%C4%B1.ipynb\" target=\"_parent\"><img src=\"https://colab.research.google.com/assets/colab-badge.svg\" alt=\"Open In Colab\"/></a>"
      ]
    },
    {
      "cell_type": "code",
      "execution_count": null,
      "metadata": {
        "id": "FyhvgYpdh9T_"
      },
      "outputs": [],
      "source": [
        "from google.colab import drive\n",
        "drive.mount('/gdrive/')"
      ]
    },
    {
      "cell_type": "markdown",
      "source": [
        "## Dataset Description\n",
        "\n",
        "### File descriptions\n",
        "\n",
        "* train.csv - the training set\n",
        "* test.csv - the test set\n",
        "* data_description.txt - full description of each column, originally prepared by Dean De Cock but lightly edited to match the column names used here\n",
        "* sample_submission.csv - a benchmark submission from a linear regression on year and month of sale, lot square footage, and number of bedrooms\n",
        "\n",
        "### Data fields\n",
        "* Here's a brief version of what you'll find in the data description file.\n",
        "* SalePrice - the property's sale price in dollars. This is the target variable that you're trying to predict.\n",
        "* MSSubClass: The building class\n",
        "* MSZoning: The general zoning classification\n",
        "* LotFrontage: Linear feet of street connected to property\n",
        "* LotArea: Lot size in square feet\n",
        "* Street: Type of road access\n",
        "* Alley: Type of alley access\n",
        "* LotShape: General shape of property\n",
        "* LandContour: Flatness of the property\n",
        "* Utilities: Type of utilities available\n",
        "* LotConfig: Lot configuration\n",
        "* LandSlope: Slope of property\n",
        "* Neighborhood: Physical locations within Ames city limits\n",
        "* Condition1: Proximity to main road or railroad\n",
        "* Condition2: Proximity to main road or railroad (if a second is present)\n",
        "* BldgType: Type of dwelling\n",
        "* HouseStyle: Style of dwelling\n",
        "* OverallQual: Overall material and finish quality\n",
        "* OverallCond: Overall condition rating\n",
        "* YearBuilt: Original construction date\n",
        "* YearRemodAdd: Remodel date\n",
        "* RoofStyle: Type of roof\n",
        "* RoofMatl: Roof material\n",
        "* Exterior1st: Exterior covering on house\n",
        "* Exterior2nd: Exterior covering on house (if more than one material)\n",
        "* MasVnrType: Masonry veneer type\n",
        "* MasVnrArea: Masonry veneer area in square feet\n",
        "* ExterQual: Exterior material quality\n",
        "* ExterCond: Present condition of the material on the exterior\n",
        "* Foundation: Type of foundation\n",
        "* BsmtQual: Height of the basement\n",
        "* BsmtCond: General condition of the basement\n",
        "* BsmtExposure: Walkout or garden level basement walls\n",
        "* BsmtFinType1: Quality of basement finished area\n",
        "* BsmtFinSF1: Type 1 finished square feet\n",
        "* BsmtFinType2: Quality of second finished area (if present)\n",
        "* BsmtFinSF2: Type 2 finished square feet\n",
        "* BsmtUnfSF: Unfinished square feet of basement area\n",
        "* TotalBsmtSF: Total square feet of basement area\n",
        "* Heating: Type of heating\n",
        "* HeatingQC: Heating quality and condition\n",
        "* CentralAir: Central air conditioning\n",
        "* Electrical: Electrical system\n",
        "* 1stFlrSF: First Floor square feet\n",
        "* 2ndFlrSF: Second floor square feet\n",
        "* LowQualFinSF: Low quality finished square feet (all floors)\n",
        "* GrLivArea: Above grade (ground) living area square feet\n",
        "* BsmtFullBath: Basement full bathrooms\n",
        "* BsmtHalfBath: Basement half bathrooms\n",
        "* FullBath: Full bathrooms above grade\n",
        "* HalfBath: Half baths above grade\n",
        "* Bedroom: Number of bedrooms above basement level\n",
        "* Kitchen: Number of kitchens\n",
        "* KitchenQual: Kitchen quality\n",
        "* TotRmsAbvGrd: Total rooms above grade (does not include bathrooms)\n",
        "* Functional: Home functionality rating\n",
        "* Fireplaces: Number of fireplaces\n",
        "* FireplaceQu: Fireplace quality\n",
        "* GarageType: Garage location\n",
        "* GarageYrBlt: Year garage was built\n",
        "* GarageFinish: Interior finish of the garage\n",
        "* GarageCars: Size of garage in car capacity\n",
        "* GarageArea: Size of garage in square feet\n",
        "* GarageQual: Garage quality\n",
        "* GarageCond: Garage condition\n",
        "* PavedDrive: Paved driveway\n",
        "* WoodDeckSF: Wood deck area in square feet\n",
        "* OpenPorchSF: Open porch area in square feet\n",
        "* EnclosedPorch: Enclosed porch area in square feet\n",
        "* 3SsnPorch: Three season porch area in square feet\n",
        "* ScreenPorch: Screen porch area in square feet\n",
        "* PoolArea: Pool area in square feet\n",
        "* PoolQC: Pool quality\n",
        "* Fence: Fence quality\n",
        "* MiscFeature: Miscellaneous feature not covered in other categories\n",
        "* MiscVal: $Value of miscellaneous feature\n",
        "\n",
        "* MoSold: Month Sold\n",
        "\n",
        "* YrSold: Year Sold\n",
        "\n",
        "* SaleType: Type of sale\n",
        "\n",
        "* SaleCondition: Condition of sale"
      ],
      "metadata": {
        "id": "IbXz0PZ7XrBh"
      }
    },
    {
      "cell_type": "markdown",
      "source": [
        "## Veri Kümesi Açıklaması\n",
        "### Dosya açıklamaları\n",
        "\n",
        "* train.csv - eğitim seti\n",
        "* test.csv - test seti\n",
        "* data_description.txt - orijinal olarak Dean De Cock tarafından hazırlanmış, ancak burada kullanılan sütun adlarına uyması için hafifçe düzenlenmiş, her sütunun tam açıklaması\n",
        "* sample_submission.csv - satış yılı ve ayı, arsa alanı ve yatak odası sayısına ilişkin doğrusal regresyondan bir kıyaslama sunumu\n",
        "\n",
        "### Veri alanları\n",
        "\n",
        "* Veri açıklama dosyasında bulabileceklerinizin kısa bir versiyonu aşağıda verilmiştir.\n",
        "* SalePrice - mülkün dolar cinsinden satış fiyatı. Bu, tahmin etmeye çalıştığınız hedef değişkendir.\n",
        "* MSSubClass: Bina sınıfı\n",
        "* MSZoning: Genel imar sınıflandırması\n",
        "* LotFrontage: Mülke bağlı caddenin doğrusal ayağı\n",
        "* LotArea: Metrekare cinsinden parti büyüklüğü\n",
        "* Cadde: Yol erişim türü\n",
        "* Alley: Alley erişim türü\n",
        "* LotShape: Özelliğin genel şekli\n",
        "* LandContour: Özelliğin düzlüğü\n",
        "* Yardımcı programlar: Kullanılabilir yardımcı program türleri\n",
        "* LotConfig: Parti yapılandırması\n",
        "* Arazi Eğimi: Mülkün eğimi\n",
        "* Mahalle: Ames şehir sınırları içindeki fiziksel konumlar\n",
        "* Koşul1: Ana yola veya demiryoluna yakınlık\n",
        "* Koşul2: Ana yola veya demiryoluna yakınlık (bir saniye varsa)\n",
        "* BldgType: Konut tipi\n",
        "* HouseStyle: Konut stili\n",
        "* GeneralQual: Genel malzeme ve kaplama kalitesi\n",
        "* Genel Durum: Genel durum değerlendirmesi\n",
        "\n",
        "* YearBuilt: Orijinal yapım tarihi\n",
        "* YearRemodAdd: Yenileme tarihi\n",
        "* Çatı Stili: Çatı tipi\n",
        "* RoofMatl: Çatı malzemesi\n",
        "* Exterior1st: Evin dış kaplaması\n",
        "* Exterior2nd: Evdeki dış kaplama (birden fazla malzeme varsa)\n",
        "* MasVnrType: Duvar kaplama tipi\n",
        "* MasVnrArea: Metrekare cinsinden duvar kaplama alanı\n",
        "* ExterQual: Dış malzeme kalitesi\n",
        "* ExterCond: Dış yüzeydeki malzemenin mevcut durumu\n",
        "* Vakıf: Vakfın türü\n",
        "* BsmtQual: Bodrum yüksekliği\n",
        "* BsmtCond: Bodrumun genel durumu\n",
        "* BsmtExposure: Yürüyüş veya bahçe seviyesindeki bodrum duvarları\n",
        "* BsmtFinType1: Bodrum bitmiş alanın kalitesi\n",
        "* BsmtFinSF1: Tip 1 bitmiş fit kare\n",
        "* BsmtFinType2: İkinci bitmiş alanın kalitesi (varsa)\n",
        "* BsmtFinSF2: Tip 2 bitmiş fit kare\n",
        "* BsmtUnfSF: Bodrum alanının bitmemiş metrekaresi\n",
        "* TotalBsmtSF: Bodrum alanının toplam fit karesi\n",
        "* Isıtma: Isıtma türü\n",
        "* HeatingQC: Isıtma kalitesi ve durumu\n",
        "* CentralAir: Merkezi klima\n",
        "* Elektrik: Elektrik sistemi\n",
        "* 1stFlrSF: Birinci Kat fit kare\n",
        "* 2ndFlrSF: İkinci kat metrekare\n",
        "* LowQualFinSF: Düşük kaliteli bitmiş fit kare (tüm katlar)\n",
        "* GrLivArea: Zemin üstü yaşam alanı fit kare\n",
        "* BsmtFullBath: Bodrumdaki tam banyolar\n",
        "* BsmtHalfBath: Bodrum yarım banyolar\n",
        "* FullBath: Seviyenin üzerinde eksiksiz banyolar\n",
        "* HalfBath: Seviyenin üzerinde yarım banyo\n",
        "* Yatak Odası: Bodrum seviyesinin üzerindeki yatak odası sayısı\n",
        "* Mutfak: Mutfak sayısı\n",
        "* KitchenQual: Mutfak kalitesi\n",
        "* TotRmsAbvGrd: Derecenin üzerindeki toplam oda sayısı (banyoları içermez)\n",
        "* İşlevsel: Ev işlevsellik derecesi\n",
        "* Şömineler: Şömine sayısı\n",
        "* FireplaceQu: Şömine kalitesi\n",
        "* Garaj Türü: Garaj konumu\n",
        "* GarageYrBlt: Garajın inşa edildiği yıl\n",
        "* GarageFinish: Garajın iç kaplaması\n",
        "* GarageCars: Araç kapasitesi olarak garajın boyutu\n",
        "* GarageArea: Garajın fit kare cinsinden boyutu\n",
        "* GarageQual: Garaj kalitesi\n",
        "* GarageCond: Garaj durumu\n",
        "* PavedDrive: Asfaltlanmış araba yolu\n",
        "* WoodDeckSF: Ayak kare olarak ahşap güverte alanı\n",
        "* OpenPorchSF: Ayak kare cinsinden açık sundurma alanı\n",
        "* EnclosedPorch: Metrekare cinsinden kapalı sundurma alanı\n",
        "* 3SsnPorch: Metrekare cinsinden üç sezonluk sundurma alanı\n",
        "* ScreenPorch: Metrekare cinsinden ekran sundurma alanı\n",
        "* PoolArea: Metrekare cinsinden havuz alanı\n",
        "* PoolQC: Havuz kalitesi\n",
        "* Çit: Çit kalitesi\n",
        "* MiscFeature: Diğer kategorilerde yer almayan çeşitli özellik\n",
        "* MiscVal: Çeşitli özelliğin $ Değeri\n",
        "\n",
        "* MoSold: Aylık Satıldı\n",
        "\n",
        "* YılSold: Satılan Yıl\n",
        "\n",
        "* SaleType: Satış türü\n",
        "\n",
        "* Satış Durumu: Satış durumu"
      ],
      "metadata": {
        "id": "zbthWvvCX0a_"
      }
    },
    {
      "cell_type": "markdown",
      "source": [
        "## Analysis Content \n",
        "\n",
        "* 1.[Python Libraries](#1)\n",
        "* 2.[data loading](#2)\n",
        "* 3.[EDA](#3)\n",
        "* 4.[data Preprocessing](#4)\n",
        "* 5.[Modelling](#5) \n",
        "* 6.[Conclusion](#6) \n"
      ],
      "metadata": {
        "id": "xDAY4ScuX7dg"
      }
    },
    {
      "cell_type": "markdown",
      "source": [
        "<a id=\"1\"></a>\n",
        "## 1.Python Libraries"
      ],
      "metadata": {
        "id": "umk8d3iSYAQB"
      }
    },
    {
      "cell_type": "code",
      "source": [
        "#Let's load the relevant libraries (İlgili kütüphaneleri yükleyelim);\n",
        "\n",
        "import numpy as np \n",
        "import pandas as pd\n",
        "from sklearn.model_selection import train_test_split,GridSearchCV,RandomizedSearchCV\n",
        "from sklearn.metrics import mean_squared_error,r2_score\n",
        "import matplotlib.pyplot as plt\n",
        "import seaborn as sns\n",
        "import plotly.express as px\n",
        "from sklearn.preprocessing import scale\n",
        "from sklearn.preprocessing import StandardScaler\n",
        "from sklearn import model_selection\n",
        "from sklearn.linear_model import Ridge,Lasso,RidgeCV,LassoCV,ElasticNet,ElasticNetCV,LinearRegression\n",
        "from sklearn.tree import DecisionTreeRegressor\n",
        "from sklearn.neighbors import KNeighborsRegressor\n",
        "from sklearn.neural_network import MLPRegressor\n",
        "from sklearn.ensemble import RandomForestRegressor\n",
        "from sklearn.ensemble import GradientBoostingRegressor\n",
        "from sklearn.ensemble import AdaBoostRegressor\n",
        "from sklearn import neighbors\n",
        "from sklearn.svm import SVR\n",
        "import warnings\n",
        "warnings.filterwarnings(\"ignore\")"
      ],
      "metadata": {
        "id": "L7A00YLxizAr"
      },
      "execution_count": null,
      "outputs": []
    },
    {
      "cell_type": "markdown",
      "source": [
        "<a id=\"2\"></a>\n",
        "## 2.Data Loading"
      ],
      "metadata": {
        "id": "Rg5B85jNYMri"
      }
    },
    {
      "cell_type": "code",
      "source": [
        "# Verisetlerimizi yükleyelim;"
      ],
      "metadata": {
        "id": "Tac4vpbTYIkq"
      },
      "execution_count": null,
      "outputs": []
    },
    {
      "cell_type": "code",
      "source": [
        "df_train=pd.read_csv(\"/content/train.csv\")\n",
        "df_train"
      ],
      "metadata": {
        "id": "zjoMX05LYSch"
      },
      "execution_count": null,
      "outputs": []
    },
    {
      "cell_type": "code",
      "source": [
        "df_test=pd.read_csv(\"/content/test.csv\")\n",
        "df_test"
      ],
      "metadata": {
        "id": "QGCxGEWhYYoL"
      },
      "execution_count": null,
      "outputs": []
    },
    {
      "cell_type": "code",
      "source": [
        "df_sub=pd.read_csv(\"/content/sample_submission.csv\")\n",
        "df_sub"
      ],
      "metadata": {
        "id": "A7196Ks5Yg9x"
      },
      "execution_count": null,
      "outputs": []
    },
    {
      "cell_type": "markdown",
      "source": [
        "<a id=\"3\"></a>\n",
        "## 3.EDA"
      ],
      "metadata": {
        "id": "Ga2Uiw_hYs1T"
      }
    },
    {
      "cell_type": "code",
      "source": [
        "# train için keşifsel veri analizi;"
      ],
      "metadata": {
        "id": "gZb4kPFlYnuB"
      },
      "execution_count": null,
      "outputs": []
    },
    {
      "cell_type": "code",
      "source": [
        "df_train.shape"
      ],
      "metadata": {
        "id": "JQy23T0fY3bP"
      },
      "execution_count": null,
      "outputs": []
    },
    {
      "cell_type": "code",
      "source": [
        "# verisetimiz 1460 gözlem ve 81 öznitelikten oluşmaktadır"
      ],
      "metadata": {
        "id": "Ax2qovZQZKMe"
      },
      "execution_count": null,
      "outputs": []
    },
    {
      "cell_type": "code",
      "source": [
        "# kolonlara erişelim;\n",
        "df_train.columns"
      ],
      "metadata": {
        "id": "YPGsQG6NZMwd"
      },
      "execution_count": null,
      "outputs": []
    },
    {
      "cell_type": "code",
      "source": [
        "# kolonları düzeltelim;\n",
        "df_train.columns=df_train.columns.str.lower()\n",
        "df_train.columns"
      ],
      "metadata": {
        "id": "3c0ujfrwZOxu"
      },
      "execution_count": null,
      "outputs": []
    },
    {
      "cell_type": "code",
      "source": [
        "# df_train yapısal bilgiler;\n",
        "\n",
        "df_train.info()"
      ],
      "metadata": {
        "id": "_AZBFOcdZSbN"
      },
      "execution_count": null,
      "outputs": []
    },
    {
      "cell_type": "code",
      "source": [
        "# verisetimizde çok sayıda eksik değer var,38 sayısal ve 43 kategorik değerden oluşmaktadır"
      ],
      "metadata": {
        "id": "2Mxoer9LZWhw"
      },
      "execution_count": null,
      "outputs": []
    },
    {
      "cell_type": "code",
      "source": [
        "# sayısal değişkenlerin istatistiksel özeti;\n",
        "\n",
        "df_train.describe().T"
      ],
      "metadata": {
        "id": "tLG0j9_aZcth"
      },
      "execution_count": null,
      "outputs": []
    },
    {
      "cell_type": "code",
      "source": [
        "# kategorik değerler için;\n",
        "df_train.describe(include=\"object\").T"
      ],
      "metadata": {
        "id": "W1hDgHdmZfAd"
      },
      "execution_count": null,
      "outputs": []
    },
    {
      "cell_type": "code",
      "source": [
        "# benzersiz değer sayıları;\n",
        "\n",
        "df_train.nunique()"
      ],
      "metadata": {
        "id": "ElT0bKbwZlPn"
      },
      "execution_count": null,
      "outputs": []
    },
    {
      "cell_type": "code",
      "source": [
        "for i in df_train.columns:\n",
        "    print(i,df_train[i].value_counts())\n",
        "    print(\"*\"*25)"
      ],
      "metadata": {
        "id": "jLogZpYeZphm"
      },
      "execution_count": null,
      "outputs": []
    },
    {
      "cell_type": "code",
      "source": [
        "df_train.select_dtypes(include=\"object\")"
      ],
      "metadata": {
        "id": "FbvrHeKcZsVC"
      },
      "execution_count": null,
      "outputs": []
    },
    {
      "cell_type": "code",
      "source": [
        "df_train.groupby(\"heating\").describe()[\"saleprice\"]"
      ],
      "metadata": {
        "id": "AygMZFIRZynH"
      },
      "execution_count": null,
      "outputs": []
    },
    {
      "cell_type": "code",
      "source": [
        "df_train.groupby(\"garagequal\").describe()[[\"saleprice\",\"garagearea\"]].T"
      ],
      "metadata": {
        "id": "TwMfBfmoZ3jv"
      },
      "execution_count": null,
      "outputs": []
    },
    {
      "cell_type": "code",
      "source": [
        "df_train.groupby(\"functional\").saleprice.describe()"
      ],
      "metadata": {
        "id": "9MXXgHvCZ7eL"
      },
      "execution_count": null,
      "outputs": []
    },
    {
      "cell_type": "code",
      "source": [
        "df_train.sort_values(\"saleprice\",ascending=False).head(20)"
      ],
      "metadata": {
        "id": "UZZpqAxraDvx"
      },
      "execution_count": null,
      "outputs": []
    },
    {
      "cell_type": "code",
      "source": [
        "df_train.sort_values(\"saleprice\",ascending=True).head(20)"
      ],
      "metadata": {
        "id": "JNH2w6PFaG6D"
      },
      "execution_count": null,
      "outputs": []
    },
    {
      "cell_type": "code",
      "source": [
        "# en pahalı ev\n",
        "df_train[df_train.saleprice==755000]"
      ],
      "metadata": {
        "id": "cTfvjtiGaKhL"
      },
      "execution_count": null,
      "outputs": []
    },
    {
      "cell_type": "code",
      "source": [
        "# df_test için EDA;"
      ],
      "metadata": {
        "id": "aeR2VOeFaPhp"
      },
      "execution_count": null,
      "outputs": []
    },
    {
      "cell_type": "code",
      "source": [
        "df_test.shape"
      ],
      "metadata": {
        "id": "REethNxDaUOd"
      },
      "execution_count": null,
      "outputs": []
    },
    {
      "cell_type": "code",
      "source": [
        "# 1459 gözlem ve 80 öznitelikten oluşmaktadır"
      ],
      "metadata": {
        "id": "bvcYjaeVaWk8"
      },
      "execution_count": null,
      "outputs": []
    },
    {
      "cell_type": "code",
      "source": [
        "df_test.info()"
      ],
      "metadata": {
        "id": "Z4OZ7j_7aZC1"
      },
      "execution_count": null,
      "outputs": []
    },
    {
      "cell_type": "code",
      "source": [
        "# çok sayıda eksik değer var,37 sayısal 43 kategorik değişkenden oluşmaktadır"
      ],
      "metadata": {
        "id": "ZwbskQfhacAI"
      },
      "execution_count": null,
      "outputs": []
    },
    {
      "cell_type": "code",
      "source": [
        "# istatistiksel özet;\n",
        "df_test.describe().T"
      ],
      "metadata": {
        "id": "lz9CPc_XahXP"
      },
      "execution_count": null,
      "outputs": []
    },
    {
      "cell_type": "code",
      "source": [
        "for i in df_test.columns:\n",
        "    print(i,df_test[i].value_counts())\n",
        "    print(\"*\"*25)"
      ],
      "metadata": {
        "id": "9kfOV6QYakdX"
      },
      "execution_count": null,
      "outputs": []
    },
    {
      "cell_type": "markdown",
      "source": [
        "<a id=\"4\"></a>\n",
        "## 4.Data Preprocessing"
      ],
      "metadata": {
        "id": "LAdPP8-ba1Hu"
      }
    },
    {
      "cell_type": "code",
      "source": [
        "# df_train için ön işleme;"
      ],
      "metadata": {
        "id": "Mzm6Hipoam0M"
      },
      "execution_count": null,
      "outputs": []
    },
    {
      "cell_type": "code",
      "source": [
        "# eksik değer sorgulama;\n",
        "df_train.isna().sum()"
      ],
      "metadata": {
        "id": "LGKnmVd2a382"
      },
      "execution_count": null,
      "outputs": []
    },
    {
      "cell_type": "code",
      "source": [
        "# sayısal ve kategorik değerler için birer liste oluşturalım;\n",
        "\n",
        "num_list_train=[i for i in df_train.select_dtypes(include=[\"float64\",\"int64\"])]\n",
        "cat_list_train=[i for i in df_train.select_dtypes(include=\"object\")]"
      ],
      "metadata": {
        "id": "fjt2c8WYa58O"
      },
      "execution_count": null,
      "outputs": []
    },
    {
      "cell_type": "code",
      "source": [
        "num_list_train"
      ],
      "metadata": {
        "id": "mBJWxInva9zj"
      },
      "execution_count": null,
      "outputs": []
    },
    {
      "cell_type": "code",
      "source": [
        "cat_list_train"
      ],
      "metadata": {
        "id": "DNpAxFWfbBLO"
      },
      "execution_count": null,
      "outputs": []
    },
    {
      "cell_type": "code",
      "source": [
        "# sayısal değişkenlerin dağılım durumlarına bakalım;"
      ],
      "metadata": {
        "id": "monzjXmjbEFK"
      },
      "execution_count": null,
      "outputs": []
    },
    {
      "cell_type": "code",
      "source": [
        "k=1\n",
        "plt.figure(figsize=(14,14))\n",
        "plt.suptitle(\"Sayısal değişkenlerin dağılım durumları\")\n",
        "\n",
        "for i in df_train.loc[:,num_list_train]:\n",
        "    plt.subplot(13,3,k)\n",
        "    sns.distplot(df_train[i])\n",
        "    k+=1"
      ],
      "metadata": {
        "id": "uXdW9oAybLfy"
      },
      "execution_count": null,
      "outputs": []
    },
    {
      "cell_type": "code",
      "source": [
        "# çok sayıda eksik değer olan kolonları direk atalım;\n",
        "df_train.info()"
      ],
      "metadata": {
        "id": "e6x7VdXJbNy5"
      },
      "execution_count": null,
      "outputs": []
    },
    {
      "cell_type": "code",
      "source": [
        "df_train.drop([\"alley\",\"miscfeature\",\"poolqc\",\"fence\",\"fireplacequ\"],axis=1,inplace=True)"
      ],
      "metadata": {
        "id": "3hG36vg-bejv"
      },
      "execution_count": null,
      "outputs": []
    },
    {
      "cell_type": "code",
      "source": [
        "df_train.info()"
      ],
      "metadata": {
        "id": "Ckg_9tkGbvot"
      },
      "execution_count": null,
      "outputs": []
    },
    {
      "cell_type": "code",
      "source": [
        "# kalan eksik değerler arasında ilişki olup olmadığnı gözlemleyelim;"
      ],
      "metadata": {
        "id": "myNLrrttbxXZ"
      },
      "execution_count": null,
      "outputs": []
    },
    {
      "cell_type": "code",
      "source": [
        "import missingno as msno"
      ],
      "metadata": {
        "id": "GciNEKz3b1qK"
      },
      "execution_count": null,
      "outputs": []
    },
    {
      "cell_type": "code",
      "source": [
        "msno.bar(df_train);"
      ],
      "metadata": {
        "id": "O-pDvQF-b5aF"
      },
      "execution_count": null,
      "outputs": []
    },
    {
      "cell_type": "code",
      "source": [
        "msno.matrix(df_train);"
      ],
      "metadata": {
        "id": "xKgGMQ84cBor"
      },
      "execution_count": null,
      "outputs": []
    },
    {
      "cell_type": "code",
      "source": [
        "msno.heatmap(df_train);"
      ],
      "metadata": {
        "id": "bvhQFjS6cH43"
      },
      "execution_count": null,
      "outputs": []
    },
    {
      "cell_type": "code",
      "source": [
        "#  bazı öznitelikler arasında yüzde yüzlük bir ilişki var"
      ],
      "metadata": {
        "id": "YcbGoyfecLQt"
      },
      "execution_count": null,
      "outputs": []
    },
    {
      "cell_type": "code",
      "source": [
        "# kategorik değerler için eksik değerleri giderelim;"
      ],
      "metadata": {
        "id": "YjGk1_r9cPwi"
      },
      "execution_count": null,
      "outputs": []
    },
    {
      "cell_type": "code",
      "source": [
        "df_train.select_dtypes(include=\"object\").info()"
      ],
      "metadata": {
        "id": "5-6LCqUwcR6i"
      },
      "execution_count": null,
      "outputs": []
    },
    {
      "cell_type": "code",
      "source": [
        "df_train.masvnrtype.fillna(value=\"None\",inplace=True)\n",
        "df_train.bsmtqual.fillna(method=\"ffill\",inplace=True)\n",
        "df_train.bsmtcond.fillna(value=\"TA\",inplace=True)\n",
        "df_train.bsmtexposure.fillna(method=\"ffill\",inplace=True)\n",
        "df_train.bsmtfintype1.fillna(method=\"ffill\",inplace=True)\n",
        "df_train.bsmtfintype2.fillna(value=\"Unf\",inplace=True)\n",
        "df_train.electrical.fillna(value=\"SBrkr\",inplace=True)\n",
        "df_train.garagequal.fillna(value=\"TA\",inplace=True)\n",
        "df_train.garagetype.fillna(method=\"ffill\",inplace=True)\n",
        "df_train.garagefinish.fillna(method=\"bfill\",inplace=True)\n",
        "df_train.garagecond.fillna(value=\"TA\",inplace=True)"
      ],
      "metadata": {
        "id": "wnmVcRDjdA3l"
      },
      "execution_count": null,
      "outputs": []
    },
    {
      "cell_type": "code",
      "source": [
        "df_train.select_dtypes(include=\"object\").isna().sum().sum()"
      ],
      "metadata": {
        "id": "1xYx7gZUdEvP"
      },
      "execution_count": null,
      "outputs": []
    },
    {
      "cell_type": "code",
      "source": [
        "# kategorik değerler için aykırı değerlerimizi giderdik(train)"
      ],
      "metadata": {
        "id": "PO83ei3XdG3R"
      },
      "execution_count": null,
      "outputs": []
    },
    {
      "cell_type": "code",
      "source": [
        "# kategorik öznitelikler için eksik değerlerimizi giderdik,sayısal değişkenler için gözlemleyeim;"
      ],
      "metadata": {
        "id": "sM7jBiC8dSj9"
      },
      "execution_count": null,
      "outputs": []
    },
    {
      "cell_type": "code",
      "source": [
        "df_train.select_dtypes(include=[\"float64\",\"int64\"]).info()"
      ],
      "metadata": {
        "id": "QpuNBtepdV7C"
      },
      "execution_count": null,
      "outputs": []
    },
    {
      "cell_type": "code",
      "source": [
        "# eksik olan kolonlar için dağılım durumlarına bakalım;"
      ],
      "metadata": {
        "id": "CdunFYFjdYXJ"
      },
      "execution_count": null,
      "outputs": []
    },
    {
      "cell_type": "code",
      "source": [
        "mis_train_liste=[\"garageyrblt\",\"lotfrontage\",\"masvnrarea\"]"
      ],
      "metadata": {
        "id": "-auGjA7_dc00"
      },
      "execution_count": null,
      "outputs": []
    },
    {
      "cell_type": "code",
      "source": [
        "k=1\n",
        "plt.suptitle(\"eksik olan özniteliklerin dağılım durumları\")\n",
        "plt.tight_layout()\n",
        "for i in df_train.loc[:,mis_train_liste]:\n",
        "    plt.subplot(2,2,k)\n",
        "    sns.distplot(df_train[i])\n",
        "    k+=1\n",
        "    plt.tight_layout()\n"
      ],
      "metadata": {
        "id": "HxCEzRUgdfYE"
      },
      "execution_count": null,
      "outputs": []
    },
    {
      "cell_type": "code",
      "source": [
        "df_train.garageyrblt.fillna(value=2000,inplace=True)\n",
        "df_train.lotfrontage.fillna(value=60,inplace=True)\n",
        "df_train.masvnrarea.fillna(value=100,inplace=True)"
      ],
      "metadata": {
        "id": "mtAhyW5QdhU3"
      },
      "execution_count": null,
      "outputs": []
    },
    {
      "cell_type": "code",
      "source": [
        "df_train.isna().sum().sum()"
      ],
      "metadata": {
        "id": "wpTeTThTdkxC"
      },
      "execution_count": null,
      "outputs": []
    },
    {
      "cell_type": "code",
      "source": [
        "# eksik değerlerimizi train veriseti için gidermiş olduk"
      ],
      "metadata": {
        "id": "UoFbP8jsdnG9"
      },
      "execution_count": null,
      "outputs": []
    },
    {
      "cell_type": "code",
      "source": [
        "# train için Aykırı değer problemi;"
      ],
      "metadata": {
        "id": "hZE_gPt9dpRM"
      },
      "execution_count": null,
      "outputs": []
    },
    {
      "cell_type": "code",
      "source": [
        "df_train.select_dtypes(include=[\"float64\",\"int64\"]).describe([0.1,0.25,0.35,0.5,0.65,0.75,0.9,0.95,0.98]).T"
      ],
      "metadata": {
        "id": "DgBG8A4Fdrqh"
      },
      "execution_count": null,
      "outputs": []
    },
    {
      "cell_type": "code",
      "source": [
        "df_train.drop([\"lowqualfinsf\",\"3ssnporch\",\"poolarea\"],axis=1,inplace=True)"
      ],
      "metadata": {
        "id": "AGMO8F7Idtzn"
      },
      "execution_count": null,
      "outputs": []
    },
    {
      "cell_type": "code",
      "source": [
        "out_list_train=[\"lotfrontage\",\"lotarea\",\"masvnrarea\",\"bsmtfinsf1\",\"bsmtfinsf2\",\"bsmtunfsf\",\"totalbsmtsf\",\n",
        "               \"1stflrsf\",\"2ndflrsf\",\"wooddecksf\",\"openporchsf\",\"enclosedporch\"]"
      ],
      "metadata": {
        "id": "OSvY20WSdzM9"
      },
      "execution_count": null,
      "outputs": []
    },
    {
      "cell_type": "code",
      "source": [
        "# % 5 e 95 için aykırı değerleri giderelim;"
      ],
      "metadata": {
        "id": "_H7XolTOd1zJ"
      },
      "execution_count": null,
      "outputs": []
    },
    {
      "cell_type": "code",
      "source": [
        "# öncelikle boxplot ile görselleştirelim;"
      ],
      "metadata": {
        "id": "eA4LnYHgd5QP"
      },
      "execution_count": null,
      "outputs": []
    },
    {
      "cell_type": "code",
      "source": [
        "k=1\n",
        "plt.figure(figsize=(13,13))\n",
        "plt.suptitle(\"Boxplot dağılımlar\")\n",
        "\n",
        "for i in df_train.select_dtypes(include=[\"float64\",\"int64\"]):\n",
        "    plt.subplot(13,3,k)\n",
        "    sns.boxplot(df_train[i])\n",
        "    k+=1\n",
        "    plt.tight_layout()"
      ],
      "metadata": {
        "id": "60WH2p1vd7Sk"
      },
      "execution_count": null,
      "outputs": []
    },
    {
      "cell_type": "code",
      "source": [
        "# sadece aykırı değerleri gidermek istediğimiz öznitelikler için görselleştirelim;"
      ],
      "metadata": {
        "id": "i0BooI7leFJd"
      },
      "execution_count": null,
      "outputs": []
    },
    {
      "cell_type": "code",
      "source": [
        "k=1\n",
        "plt.figure(figsize=(13,13))\n",
        "plt.suptitle(\"Boxplot dağılımlar\")\n",
        "\n",
        "for i in df_train.loc[:,out_list_train]:\n",
        "    plt.subplot(4,3,k)\n",
        "    sns.boxplot(df_train[i])\n",
        "    k+=1\n",
        "    plt.tight_layout()"
      ],
      "metadata": {
        "id": "Eg5AWboqeRx4"
      },
      "execution_count": null,
      "outputs": []
    },
    {
      "cell_type": "code",
      "source": [
        "# şimdi aykırı değer sorgulama işlemi yapalım;\n",
        "\n",
        "for i in df_train.loc[:,out_list_train]:\n",
        "    Q1=df_train[i].quantile(0.05)\n",
        "    Q3=df_train[i].quantile(0.95)\n",
        "    IQR=Q3-Q1\n",
        "    up=Q3+(1.5*IQR)\n",
        "    low=Q1-(1.5*IQR)\n",
        "    \n",
        "    if df_train[(df_train[i]>up) | (df_train[i]<low)].any(axis=None):\n",
        "        print(i,\"yes\")\n",
        "    else:\n",
        "        print(i,\"no\")"
      ],
      "metadata": {
        "id": "56TESP2IeVmQ"
      },
      "execution_count": null,
      "outputs": []
    },
    {
      "cell_type": "code",
      "source": [
        "# 2 öznitelikte aykırı değer yok,diğer lerinde görünüyor"
      ],
      "metadata": {
        "id": "SNutfvRaebmL"
      },
      "execution_count": null,
      "outputs": []
    },
    {
      "cell_type": "code",
      "source": [
        "# aykırı değerleri  gidermedem önce inceleyelim"
      ],
      "metadata": {
        "id": "irK17KtTef0B"
      },
      "execution_count": null,
      "outputs": []
    },
    {
      "cell_type": "code",
      "source": [
        "# aykırı değerlere erişelim;\n",
        "\n",
        "def out_train(data):\n",
        "    q1,q3=np.percentile(data,[0.05,0.95])\n",
        "    ıqr=q3-q1\n",
        "    low,high=q1-1.5*ıqr,q3+1.5*ıqr\n",
        "    \n",
        "    out_train=[i for i in data if i<low or i>high]\n",
        "    \n",
        "    return out_train\n",
        "    \n"
      ],
      "metadata": {
        "id": "0gmnUi5ieiIQ"
      },
      "execution_count": null,
      "outputs": []
    },
    {
      "cell_type": "code",
      "source": [
        "len(out_train(df_train[\"lotfrontage\"]))"
      ],
      "metadata": {
        "id": "t99S_D-fej7g"
      },
      "execution_count": null,
      "outputs": []
    },
    {
      "cell_type": "code",
      "source": [
        "len(out_train(df_train[\"lotarea\"]))"
      ],
      "metadata": {
        "id": "RU2jLUDhezah"
      },
      "execution_count": null,
      "outputs": []
    },
    {
      "cell_type": "code",
      "source": [
        "len(out_train(df_train[\"masvnrarea\"]))"
      ],
      "metadata": {
        "id": "i5w5TORke1OW"
      },
      "execution_count": null,
      "outputs": []
    },
    {
      "cell_type": "code",
      "source": [
        "len(out_train(df_train[\"bsmtfinsf2\"]))"
      ],
      "metadata": {
        "id": "COtY_DiNe4EH"
      },
      "execution_count": null,
      "outputs": []
    },
    {
      "cell_type": "code",
      "source": [
        "len(out_train(df_train[\"totalbsmtsf\"]))"
      ],
      "metadata": {
        "id": "8-jC90aGe6I5"
      },
      "execution_count": null,
      "outputs": []
    },
    {
      "cell_type": "code",
      "source": [
        "# aykırı değerleri gidermedem önce dağılım ve istatistiksel bilgilerine bakalım "
      ],
      "metadata": {
        "id": "ya0I4l-Oe9lM"
      },
      "execution_count": null,
      "outputs": []
    },
    {
      "cell_type": "code",
      "source": [
        "k=1\n",
        "plt.suptitle(\"Bpxplot dağılımlar\")\n",
        "\n",
        "for i in df_train.loc[:,out_list_train]:\n",
        "    plt.subplot(4,3,k)\n",
        "    sns.distplot(df_train[i])\n",
        "    k+=1\n",
        "    plt.tight_layout()"
      ],
      "metadata": {
        "id": "PaG_g1A1fAC-"
      },
      "execution_count": null,
      "outputs": []
    },
    {
      "cell_type": "code",
      "source": [
        "df_train.loc[:,out_list_train].describe().T"
      ],
      "metadata": {
        "id": "USqOzMTgfCT8"
      },
      "execution_count": null,
      "outputs": []
    },
    {
      "cell_type": "code",
      "source": [
        "# aykırı değerleri baskılama tekniği ile giderelim;"
      ],
      "metadata": {
        "id": "Ve_HWe_pfHJy"
      },
      "execution_count": null,
      "outputs": []
    },
    {
      "cell_type": "code",
      "source": [
        "# remove outliers;\n",
        "for i in df_train.loc[:,out_list_train]:\n",
        "    \n",
        "    Q1 = df_train[i].quantile(0.05)\n",
        "    Q3 = df_train[i].quantile(0.95)\n",
        "    IQR = Q3 - Q1\n",
        "    up_lim=Q3+1.5 *IQR\n",
        "    low_lim=Q1-1.5 *IQR\n",
        "    \n",
        "    df_train.loc[df_train[i]>up_lim,i]=up_lim\n",
        "    df_train.loc[df_train[i]<low_lim,i]=low_lim"
      ],
      "metadata": {
        "id": "Lfpt7PgVfKL_"
      },
      "execution_count": null,
      "outputs": []
    },
    {
      "cell_type": "code",
      "source": [
        "# dağılım durumuna ve istatistiksel özete bakıp gözlemleyelim;"
      ],
      "metadata": {
        "id": "wY9I0YsGfMgU"
      },
      "execution_count": null,
      "outputs": []
    },
    {
      "cell_type": "code",
      "source": [
        "k=1\n",
        "plt.suptitle(\"Boxplot dağılımlar\")\n",
        "\n",
        "for i in df_train.loc[:,out_list_train]:\n",
        "    plt.subplot(4,3,k)\n",
        "    sns.distplot(df_train[i])\n",
        "    k+=1\n",
        "    plt.tight_layout()"
      ],
      "metadata": {
        "id": "PnQXjUDSfOef"
      },
      "execution_count": null,
      "outputs": []
    },
    {
      "cell_type": "code",
      "source": [
        "df_train.loc[:,out_list_train].describe().T"
      ],
      "metadata": {
        "id": "1UbzI1RefSJI"
      },
      "execution_count": null,
      "outputs": []
    },
    {
      "cell_type": "code",
      "source": [
        "# test verileri içinde gerekli işlemleri yapalım;"
      ],
      "metadata": {
        "id": "lPlqAOHPfU2K"
      },
      "execution_count": null,
      "outputs": []
    },
    {
      "cell_type": "code",
      "source": [
        "df_test.describe().T"
      ],
      "metadata": {
        "id": "UHIujifQfahI"
      },
      "execution_count": null,
      "outputs": []
    },
    {
      "cell_type": "code",
      "source": [
        "df_test.columns=df_test.columns.str.lower()\n",
        "df_test.columns\n"
      ],
      "metadata": {
        "id": "ydsUYxIOfcsY"
      },
      "execution_count": null,
      "outputs": []
    },
    {
      "cell_type": "code",
      "source": [
        "df_test.drop([\"alley\",\"miscfeature\",\"poolqc\",\"fence\",\"fireplacequ\",\"lowqualfinsf\",\"3ssnporch\",\"poolarea\"],axis=1,inplace=True)"
      ],
      "metadata": {
        "id": "QUfv-O1jffH1"
      },
      "execution_count": null,
      "outputs": []
    },
    {
      "cell_type": "code",
      "source": [
        "# eksik değer sorgulama;\n",
        "df_test.isna().sum()"
      ],
      "metadata": {
        "id": "QQTQ1C1BfhnC"
      },
      "execution_count": null,
      "outputs": []
    },
    {
      "cell_type": "code",
      "source": [
        "# sayısal ve kategorik değerler için birer liste oluşturalım;\n",
        "\n",
        "num_list_test=[i for i in df_test.select_dtypes(include=[\"float64\",\"int64\"])]\n",
        "cat_list_test=[i for i in df_test.select_dtypes(include=\"object\")]"
      ],
      "metadata": {
        "id": "hfra1Vq-fkMA"
      },
      "execution_count": null,
      "outputs": []
    },
    {
      "cell_type": "code",
      "source": [
        "num_list_test"
      ],
      "metadata": {
        "id": "e8PXTKF-frC4"
      },
      "execution_count": null,
      "outputs": []
    },
    {
      "cell_type": "code",
      "source": [
        "cat_list_test"
      ],
      "metadata": {
        "id": "IY_STPxVfuUQ"
      },
      "execution_count": null,
      "outputs": []
    },
    {
      "cell_type": "code",
      "source": [
        "k=1\n",
        "plt.figure(figsize=(14,14))\n",
        "plt.suptitle(\"Sayısal değişkenlerin dağılım durumları\")\n",
        "\n",
        "for i in df_test.loc[:,num_list_test]:\n",
        "    plt.subplot(13,3,k)\n",
        "    sns.distplot(df_test[i])\n",
        "    k+=1"
      ],
      "metadata": {
        "id": "67evX79ffwLK"
      },
      "execution_count": null,
      "outputs": []
    },
    {
      "cell_type": "code",
      "source": [
        "df_test.info()"
      ],
      "metadata": {
        "id": "R6cxn1yNf0bN"
      },
      "execution_count": null,
      "outputs": []
    },
    {
      "cell_type": "code",
      "source": [
        "# kategorik değerler için eksik değerleri giderelim;"
      ],
      "metadata": {
        "id": "LLhWg8VHf5bq"
      },
      "execution_count": null,
      "outputs": []
    },
    {
      "cell_type": "code",
      "source": [
        "df_test.select_dtypes(include=\"object\").info()"
      ],
      "metadata": {
        "id": "jZ6OQrlrf9bv"
      },
      "execution_count": null,
      "outputs": []
    },
    {
      "cell_type": "code",
      "source": [
        "df_test.mszoning.fillna(value=\"RL\",inplace=True)\n",
        "df_test.utilities.fillna(method=\"ffill\",inplace=True)\n",
        "df_test.exterior1st.fillna(value=\"VinylSd\",inplace=True)\n",
        "df_test.exterior2nd.fillna(value=\"VinylSd\",inplace=True)\n",
        "df_test.bsmtfintype1.fillna(method=\"ffill\",inplace=True)\n",
        "df_test.bsmtfintype2.fillna(value=\"Unf\",inplace=True)\n",
        "df_test.masvnrtype.fillna(value=\"None\",inplace=True)\n",
        "df_test.bsmtqual.fillna(value=\"TA\",inplace=True)\n",
        "df_test.bsmtcond.fillna(value=\"TA\",inplace=True)\n",
        "df_test.bsmtexposure.fillna(value=\"No\",inplace=True)\n",
        "df_test.bsmtfintype1.fillna(method=\"ffill\",inplace=True)\n",
        "df_test.bsmtfintype2.fillna(value=\"Unf\",inplace=True)\n",
        "df_test.kitchenqual.fillna(value=\"TA\",inplace=True)\n",
        "df_test.functional.fillna(value=\"Typ\",inplace=True)\n",
        "df_test.garagetype.fillna(method=\"ffill\",inplace=True)\n",
        "df_test.garagefinish.fillna(method=\"ffill\",inplace=True)\n",
        "df_test.garagequal.fillna(value=\"TA\",inplace=True)\n",
        "df_test.garagecond.fillna(value=\"TA\",inplace=True)\n",
        "df_test.saletype.fillna(value=\"WD\",inplace=True)"
      ],
      "metadata": {
        "id": "uazubxoZgI5T"
      },
      "execution_count": null,
      "outputs": []
    },
    {
      "cell_type": "code",
      "source": [
        "df_test.select_dtypes(include=\"object\").isna().sum().sum()"
      ],
      "metadata": {
        "id": "CyH5_j1PgALn"
      },
      "execution_count": null,
      "outputs": []
    },
    {
      "cell_type": "code",
      "source": [
        "#kategorik değerler için eksik değerlerimizi giderdik,sayısal değişkenler içinde giderelim"
      ],
      "metadata": {
        "id": "U9ivfGUbgEq7"
      },
      "execution_count": null,
      "outputs": []
    },
    {
      "cell_type": "code",
      "source": [
        "df_test.info()"
      ],
      "metadata": {
        "id": "JJ9P8HmXgPA4"
      },
      "execution_count": null,
      "outputs": []
    },
    {
      "cell_type": "code",
      "source": [
        "mis_test_liste=[\"lotfrontage\",\"masvnrarea\",\"bsmtfinsf1\",\"bsmtfinsf2\",\"bsmtunfsf\",\"totalbsmtsf\",\"bsmtfullbath\",\n",
        "               \"bsmthalfbath\",\"garageyrblt\",\"garagecars\",\"garagearea\"]"
      ],
      "metadata": {
        "id": "65g8__D6gQ5H"
      },
      "execution_count": null,
      "outputs": []
    },
    {
      "cell_type": "code",
      "source": [
        "k=1\n",
        "plt.suptitle(\"eksik olan özniteliklerin dağılım durumları\")\n",
        "plt.tight_layout()\n",
        "for i in df_test.loc[:,mis_test_liste]:\n",
        "    plt.subplot(4,3,k)\n",
        "    sns.distplot(df_test[i])\n",
        "    k+=1\n",
        "    plt.tight_layout()\n"
      ],
      "metadata": {
        "id": "zvzm8ircgU7z"
      },
      "execution_count": null,
      "outputs": []
    },
    {
      "cell_type": "code",
      "source": [
        "df_test.garageyrblt.fillna(value=2000,inplace=True)\n",
        "df_test.lotfrontage.fillna(value=70,inplace=True)\n",
        "df_test.masvnrarea.fillna(value=100,inplace=True)\n",
        "df_test.bsmtfinsf1.fillna(value=250,inplace=True)\n",
        "df_test.bsmtfinsf2.fillna(value=200,inplace=True)\n",
        "df_test.bsmtunfsf.fillna(value=300,inplace=True)\n",
        "df_test.totalbsmtsf.fillna(value=500,inplace=True)\n",
        "df_test.bsmtfullbath.fillna(value=1.5,inplace=True)\n",
        "df_test.bsmthalfbath.fillna(value=1,inplace=True)\n",
        "df_test.garagecars.fillna(value=3,inplace=True)\n",
        "df_test.garagearea.fillna(value=600,inplace=True)\n"
      ],
      "metadata": {
        "id": "ZsJ7EpjlgXnG"
      },
      "execution_count": null,
      "outputs": []
    },
    {
      "cell_type": "code",
      "source": [
        "df_test.isna().sum().sum()"
      ],
      "metadata": {
        "id": "rpWRltyAgauS"
      },
      "execution_count": null,
      "outputs": []
    },
    {
      "cell_type": "code",
      "source": [
        "# verisetinde eksik değerleri giderdik"
      ],
      "metadata": {
        "id": "LADMP8wAgdS8"
      },
      "execution_count": null,
      "outputs": []
    },
    {
      "cell_type": "code",
      "source": [
        "num_list_test"
      ],
      "metadata": {
        "id": "itOnEiMwgfGY"
      },
      "execution_count": null,
      "outputs": []
    },
    {
      "cell_type": "code",
      "source": [
        "# aykırı değer olup olmadığına bakalım;"
      ],
      "metadata": {
        "id": "yy2cnpyQgi7P"
      },
      "execution_count": null,
      "outputs": []
    },
    {
      "cell_type": "code",
      "source": [
        "# %5 çeyrek  içinaykırı değerleri giderelim;"
      ],
      "metadata": {
        "id": "z2EVcpl-gm2t"
      },
      "execution_count": null,
      "outputs": []
    },
    {
      "cell_type": "code",
      "source": [
        "# öncelikle görselleştirelim boxplot ile;\n",
        "\n",
        "k=1\n",
        "plt.figure(figsize=(13,13))\n",
        "plt.suptitle(\"Boxplot dağılımlar\")\n",
        "\n",
        "for i in df_test.select_dtypes(include=[\"float64\",\"int64\"]):\n",
        "    plt.subplot(12,3,k)\n",
        "    sns.boxplot(df_test[i])\n",
        "    k+=1\n",
        "    plt.tight_layout()"
      ],
      "metadata": {
        "id": "zDru3nz2g-iN"
      },
      "execution_count": null,
      "outputs": []
    },
    {
      "cell_type": "code",
      "source": [
        "out_list_test=[\"lotfrontage\",\"masvnrarea\",\"bsmtfinsf1\",\"bsmtfinsf2\",\"totalbsmtsf\",\"1stflrsf\",\"2ndflrsf\",\n",
        "              \"grlivarea\",\"wooddecksf\",\"enclosedporch\",\"screenporch\"]"
      ],
      "metadata": {
        "id": "HZ_tCRN9hGjs"
      },
      "execution_count": null,
      "outputs": []
    },
    {
      "cell_type": "code",
      "source": [
        "# şimdi aykırı değer sorgulama işlemi yapalım;\n",
        "\n",
        "for i in df_test.loc[:,out_list_test]:\n",
        "    Q1=df_test[i].quantile(0.05)\n",
        "    Q3=df_test[i].quantile(0.95)\n",
        "    IQR=Q3-Q1\n",
        "    up=Q3+(1.5*IQR)\n",
        "    low=Q1-(1.5*IQR)\n",
        "    \n",
        "    if df_test[(df_test[i]>up) | (df_test[i]<low)].any(axis=None):\n",
        "        print(i,\"yes\")\n",
        "    else:\n",
        "        print(i,\"no\")"
      ],
      "metadata": {
        "id": "c8_f8SUFhMWD"
      },
      "execution_count": null,
      "outputs": []
    },
    {
      "cell_type": "code",
      "source": [
        "# aykkırı değerleri giderelim;\n",
        "\n",
        "\n",
        "for i in df_test.loc[:,num_list_test]:\n",
        "    \n",
        "    Q1 = df_test[i].quantile(0.05)\n",
        "    Q3 = df_test[i].quantile(0.95)\n",
        "    IQR = Q3 - Q1\n",
        "    up_lim=Q3+1.5 *IQR\n",
        "    low_lim=Q1-1.5 *IQR\n",
        "    \n",
        "    df_test.loc[df_test[i]>up_lim,i]=up_lim\n",
        "    df_test.loc[df_test[i]<low_lim,i]=low_lim"
      ],
      "metadata": {
        "id": "9QxfWdvvhPbf"
      },
      "execution_count": null,
      "outputs": []
    },
    {
      "cell_type": "code",
      "source": [
        "df_train.set_index(\"id\",inplace=True)\n",
        "df_train"
      ],
      "metadata": {
        "id": "d7ZGE3KdhY6Q"
      },
      "execution_count": null,
      "outputs": []
    },
    {
      "cell_type": "code",
      "source": [
        "df_test.set_index(\"id\",inplace=True)\n",
        "df_test"
      ],
      "metadata": {
        "id": "jqACw5jShbfO"
      },
      "execution_count": null,
      "outputs": []
    },
    {
      "cell_type": "code",
      "source": [
        "# Verileri görselleştirelim;"
      ],
      "metadata": {
        "id": "tBpH1bQxhdwK"
      },
      "execution_count": null,
      "outputs": []
    },
    {
      "cell_type": "code",
      "source": [
        "cat_list=df_train.select_dtypes(include=\"object\").columns.to_list()\n",
        "cat_list"
      ],
      "metadata": {
        "id": "ARpJ6K4WhiXn"
      },
      "execution_count": null,
      "outputs": []
    },
    {
      "cell_type": "code",
      "source": [
        "# kategorik değer analizi;"
      ],
      "metadata": {
        "id": "weOpK27ihmjJ"
      },
      "execution_count": null,
      "outputs": []
    },
    {
      "cell_type": "code",
      "source": [
        "for i in df_train.select_dtypes(\"object\"):\n",
        "    plt.figure(figsize=(13,13))\n",
        "    sns.countplot(x=i,data=df_train)\n",
        "    plt.title(i)"
      ],
      "metadata": {
        "id": "xwdugvaghsv_"
      },
      "execution_count": null,
      "outputs": []
    },
    {
      "cell_type": "code",
      "source": [
        "# histogram;\n",
        "\n",
        "df_train.hist(figsize=(9,9));"
      ],
      "metadata": {
        "id": "JnmomVg5iTUM"
      },
      "execution_count": null,
      "outputs": []
    },
    {
      "cell_type": "code",
      "source": [
        "plt.figure(figsize=(15,15))\n",
        "plt.subplot(3,3,1)\n",
        "sns.scatterplot(x ='yearbuilt',y ='saleprice',hue=\"paveddrive\",data = df_train)\n",
        "plt.subplot(3,3,2)\n",
        "sns.scatterplot(x=\"yearbuilt\",y=\"totalbsmtsf\",hue=\"paveddrive\",data=df_train)\n",
        "plt.subplot(3,3,3)\n",
        "sns.scatterplot(x=\"totalbsmtsf\",y=\"saleprice\",hue=\"centralair\",data=df_train)\n",
        "plt.subplot(3,3,4)\n",
        "sns.scatterplot(x=\"saleprice\",y=\"totalbsmtsf\",data=df_train)\n",
        "plt.subplot(3,3,5)\n",
        "sns.boxplot(x=\"paveddrive\",y=\"saleprice\",data=df_train)\n",
        "plt.subplot(3,3,6)\n",
        "sns.barplot(x=\"centralair\",y=\"saleprice\",data=df_train)\n",
        "plt.subplot(3,3,7)\n",
        "sns.violinplot(x=\"centralair\",y=\"lotfrontage\",data=df_train)\n",
        "plt.subplot(3,3,8)\n",
        "sns.barplot(x=\"salecondition\",y=\"saleprice\",data=df_train)\n",
        "plt.subplot(3,3,9)\n",
        "sns.barplot(x=\"garagequal\",y=\"saleprice\",data=df_train)\n",
        "\n",
        "plt.show()"
      ],
      "metadata": {
        "id": "wkZhQPE4il1K"
      },
      "execution_count": null,
      "outputs": []
    },
    {
      "cell_type": "code",
      "source": [
        "## Encoding;"
      ],
      "metadata": {
        "id": "bUCZzylOirAF"
      },
      "execution_count": null,
      "outputs": []
    },
    {
      "cell_type": "code",
      "source": [
        "# str değerleri sayısal değerlere dönüştürelim;"
      ],
      "metadata": {
        "id": "kqHD8V8oi2rv"
      },
      "execution_count": null,
      "outputs": []
    },
    {
      "cell_type": "code",
      "source": [
        "cat_list_train=df_train.select_dtypes(include=\"object\").columns.to_list()"
      ],
      "metadata": {
        "id": "Bg-2Squ6iuma"
      },
      "execution_count": null,
      "outputs": []
    },
    {
      "cell_type": "code",
      "source": [
        "# train için;\n",
        "\n",
        "for i in cat_list_train:\n",
        "    df_train[i] = df_train[i].factorize()[0]\n",
        "\n"
      ],
      "metadata": {
        "id": "7tSaqDeJiynf"
      },
      "execution_count": null,
      "outputs": []
    },
    {
      "cell_type": "code",
      "source": [
        "df_train.info()"
      ],
      "metadata": {
        "id": "KZnhybT6i-WH"
      },
      "execution_count": null,
      "outputs": []
    },
    {
      "cell_type": "code",
      "source": [
        "# test için;\n",
        "\n",
        "cat_list_test=df_test.select_dtypes(include=\"object\").columns.to_list()\n",
        "cat_list_test"
      ],
      "metadata": {
        "id": "SeUMcDk1jBae"
      },
      "execution_count": null,
      "outputs": []
    },
    {
      "cell_type": "code",
      "source": [
        "\n",
        "for i in cat_list_test:\n",
        "    df_test[i] = df_test[i].factorize()[0]\n",
        "\n"
      ],
      "metadata": {
        "id": "vc6yzEYvjI-Y"
      },
      "execution_count": null,
      "outputs": []
    },
    {
      "cell_type": "code",
      "source": [
        "df_test.info()"
      ],
      "metadata": {
        "id": "FgIFgXZVjM6u"
      },
      "execution_count": null,
      "outputs": []
    },
    {
      "cell_type": "code",
      "source": [
        "# tüm değerleri train ve tesr verileri için sayısala çevirdik"
      ],
      "metadata": {
        "id": "HGAYmaIejPEB"
      },
      "execution_count": null,
      "outputs": []
    },
    {
      "cell_type": "code",
      "source": [
        "## Corelation Analysis"
      ],
      "metadata": {
        "id": "tMI9nSvTjW4S"
      },
      "execution_count": null,
      "outputs": []
    },
    {
      "cell_type": "code",
      "source": [
        "# train;\n",
        "\n",
        "plt.figure(figsize=(25,25))\n",
        "sns.heatmap(df_train.corr(),annot=True,linewidths=0.7,fmt=\".2f\",cmap=\"coolwarm\")\n",
        "plt.show()"
      ],
      "metadata": {
        "id": "OTPzSADKjaq8"
      },
      "execution_count": null,
      "outputs": []
    },
    {
      "cell_type": "code",
      "source": [
        "# gereksiz öznitelikleri almayalım;(hedef değişkene göre seçim işlemi yapalım)"
      ],
      "metadata": {
        "id": "cyDAoYtCjdaI"
      },
      "execution_count": null,
      "outputs": []
    },
    {
      "cell_type": "code",
      "source": [
        "cor=df_train.corr()[\"saleprice\"].sort_values(ascending=False)\n",
        "pd.DataFrame({\"column\":cor.index,\"Correlation with SalePrice\":cor.values}).head(40)"
      ],
      "metadata": {
        "id": "iUj3OEFMjlsS"
      },
      "execution_count": null,
      "outputs": []
    },
    {
      "cell_type": "code",
      "source": [
        "df_train=df_train[[\"overallqual\",\"grlivarea\",\"garagecars\",\"totalbsmtsf\",\"garagearea\",\n",
        "                   \"1stflrsf\",\"fullbath\",\"totrmsabvgrd\",\"yearbuilt\",\"yearremodadd\",\"masvnrarea\",\n",
        "                   \"fireplaces\",\"garageyrblt\",\"bsmtfinsf1\",\"lotarea\",\"lotfrontage\",\"saleprice\"]]"
      ],
      "metadata": {
        "id": "5a15vvSHjoIv"
      },
      "execution_count": null,
      "outputs": []
    },
    {
      "cell_type": "code",
      "source": [
        "df_test=df_test[[\"overallqual\",\"grlivarea\",\"garagecars\",\"totalbsmtsf\",\"garagearea\",\n",
        "                   \"1stflrsf\",\"fullbath\",\"totrmsabvgrd\",\"yearbuilt\",\"yearremodadd\",\"masvnrarea\",\n",
        "                   \"fireplaces\",\"garageyrblt\",\"bsmtfinsf1\",\"lotarea\",\"lotfrontage\"]]"
      ],
      "metadata": {
        "id": "KanJJeVRjr2O"
      },
      "execution_count": null,
      "outputs": []
    },
    {
      "cell_type": "code",
      "source": [
        "df_train"
      ],
      "metadata": {
        "id": "4ZEqrrFUjtzV"
      },
      "execution_count": null,
      "outputs": []
    },
    {
      "cell_type": "code",
      "source": [
        "df_test"
      ],
      "metadata": {
        "id": "-QPRfl6AjvGd"
      },
      "execution_count": null,
      "outputs": []
    },
    {
      "cell_type": "code",
      "source": [
        "# öznitelik sayısını 81 den 17 ye indirgedik"
      ],
      "metadata": {
        "id": "O2VISTzhjwEG"
      },
      "execution_count": null,
      "outputs": []
    },
    {
      "cell_type": "markdown",
      "source": [
        "<a id=\"5\"></a>\n",
        "## 5.Modelling"
      ],
      "metadata": {
        "id": "HIkxBtb1j8gm"
      }
    },
    {
      "cell_type": "code",
      "source": [
        "X=df_train.drop(\"saleprice\",axis=1)\n",
        "y=df_train[\"saleprice\"]"
      ],
      "metadata": {
        "id": "pe1F9EA8j4CT"
      },
      "execution_count": null,
      "outputs": []
    },
    {
      "cell_type": "code",
      "source": [
        "X_train,X_test,y_train,y_test=train_test_split(X,y,test_size=0.3,random_state=3)"
      ],
      "metadata": {
        "id": "YD2kSc9_kAOy"
      },
      "execution_count": null,
      "outputs": []
    },
    {
      "cell_type": "code",
      "source": [
        "!pip install catboost"
      ],
      "metadata": {
        "id": "bxF0opAGkGDs"
      },
      "execution_count": null,
      "outputs": []
    },
    {
      "cell_type": "code",
      "source": [
        "!pip install lightgbm"
      ],
      "metadata": {
        "id": "iQprPGOJkNNl"
      },
      "execution_count": null,
      "outputs": []
    },
    {
      "cell_type": "code",
      "source": [
        "!pip install xgboost"
      ],
      "metadata": {
        "id": "UcfZcW5wkNUy"
      },
      "execution_count": null,
      "outputs": []
    },
    {
      "cell_type": "code",
      "source": [
        "# diğer modellerimizi kuralım;\n",
        "\n",
        "from xgboost import XGBRegressor\n",
        "from catboost import CatBoostRegressor\n",
        "from lightgbm import LGBMRegressor"
      ],
      "metadata": {
        "id": "vbXPFNTSkCXq"
      },
      "execution_count": null,
      "outputs": []
    },
    {
      "cell_type": "code",
      "source": [
        "# Modellerimizi karşılaştıralım;"
      ],
      "metadata": {
        "id": "rvqemhQekLzu"
      },
      "execution_count": null,
      "outputs": []
    },
    {
      "cell_type": "code",
      "source": [
        "#  lazyprediction ile  modellerin başarım oranlarına bakalım\n",
        "# bir kaç tanesi için hiperparametre optimizasyonu yapalım;"
      ],
      "metadata": {
        "id": "UVO5B0f9p8IP"
      },
      "execution_count": null,
      "outputs": []
    },
    {
      "cell_type": "code",
      "source": [
        "!pip install lazypredict"
      ],
      "metadata": {
        "id": "mfJOqgqFr1Pg"
      },
      "execution_count": null,
      "outputs": []
    },
    {
      "cell_type": "code",
      "source": [
        "from sklearn.utils import shuffle\n",
        "from lazypredict.Supervised import LazyRegressor"
      ],
      "metadata": {
        "id": "JW8BBKMIsXCS"
      },
      "execution_count": null,
      "outputs": []
    },
    {
      "cell_type": "code",
      "source": [
        "reg = LazyRegressor(verbose=0,ignore_warnings=False, custom_metric=None )\n",
        "models,predictions = reg.fit(X_train, X_test, y_train, y_test)"
      ],
      "metadata": {
        "id": "5-lgf5fwsDmy"
      },
      "execution_count": null,
      "outputs": []
    },
    {
      "cell_type": "code",
      "source": [
        "models"
      ],
      "metadata": {
        "id": "EbjHx--esPfE"
      },
      "execution_count": null,
      "outputs": []
    },
    {
      "cell_type": "code",
      "source": [
        "# xgboost ve gbm içim hiperparametre optimizasyon işlemi yapalım;"
      ],
      "metadata": {
        "id": "ByfiC3KeuJGT"
      },
      "execution_count": null,
      "outputs": []
    },
    {
      "cell_type": "markdown",
      "source": [
        "<a id=\"6\"></a>\n",
        "## 6.GBM"
      ],
      "metadata": {
        "id": "GDkSggr1uXFb"
      }
    },
    {
      "cell_type": "code",
      "source": [
        "gbm=GradientBoostingRegressor().fit(X_train,y_train)"
      ],
      "metadata": {
        "id": "sQ573zR4uhH-"
      },
      "execution_count": null,
      "outputs": []
    },
    {
      "cell_type": "code",
      "source": [
        "gbm?"
      ],
      "metadata": {
        "id": "7jblsFKAuhFT"
      },
      "execution_count": null,
      "outputs": []
    },
    {
      "cell_type": "code",
      "source": [
        "# grid searchcv"
      ],
      "metadata": {
        "id": "v0cRCIqBuhCZ"
      },
      "execution_count": null,
      "outputs": []
    },
    {
      "cell_type": "code",
      "source": [
        "gbm_params={\n",
        "    \"learning_rate\":[0.1,0.01,0.3,0.03],\n",
        "    \"n_estimators\":[100,150,200],\n",
        "    \"min_samples_split\":[2,3,4],\n",
        "    \"max_depth\":[2,3,4,5]\n",
        "\n",
        "\n",
        "\n",
        "    \n",
        "}"
      ],
      "metadata": {
        "id": "56pYFYIQug_c"
      },
      "execution_count": null,
      "outputs": []
    },
    {
      "cell_type": "code",
      "source": [
        "gbm_cv=GridSearchCV(gbm,gbm_params,cv=5,n_jobs=-1,verbose=2).fit(X_train,y_train)"
      ],
      "metadata": {
        "id": "418qig6TvgAZ"
      },
      "execution_count": null,
      "outputs": []
    },
    {
      "cell_type": "code",
      "source": [
        "gbm_cv.best_params_"
      ],
      "metadata": {
        "id": "NUp3BXW5vtch"
      },
      "execution_count": null,
      "outputs": []
    },
    {
      "cell_type": "code",
      "source": [
        "gbm_tun=GradientBoostingRegressor().fit(X_train,y_train)"
      ],
      "metadata": {
        "id": "lzfk3BuCvtia"
      },
      "execution_count": null,
      "outputs": []
    },
    {
      "cell_type": "code",
      "source": [
        "gbm_tun.score(X_test,y_test)"
      ],
      "metadata": {
        "id": "EfaiyzQhvtri"
      },
      "execution_count": null,
      "outputs": []
    },
    {
      "cell_type": "code",
      "source": [
        "# optuna;"
      ],
      "metadata": {
        "id": "w5lkpVH3xebG"
      },
      "execution_count": null,
      "outputs": []
    },
    {
      "cell_type": "code",
      "source": [
        "!pip install optuna"
      ],
      "metadata": {
        "id": "zJhR4V1xxeqi"
      },
      "execution_count": null,
      "outputs": []
    },
    {
      "cell_type": "code",
      "source": [
        "import optuna\n",
        "from optuna import Trial,visualization,trial\n",
        "from optuna.samplers import TPESampler"
      ],
      "metadata": {
        "id": "OeFytbZkxtGM"
      },
      "execution_count": null,
      "outputs": []
    },
    {
      "cell_type": "code",
      "source": [
        "def return_score(param):\n",
        "    model=GradientBoostingRegressor(**param).fit(X_train,y_train)\n",
        "    acc=model.score(X_test,y_test)\n",
        "    return acc"
      ],
      "metadata": {
        "id": "-CwbzgONxtmF"
      },
      "execution_count": null,
      "outputs": []
    },
    {
      "cell_type": "code",
      "source": [
        "def objective(trial):\n",
        "    param={\n",
        "        \"n_estimators\":trial.suggest_int(\"n_estimators\",100,500),\n",
        "        \"min_samples_split\":trial.suggest_int(\"min_samples_split\",2,15),\n",
        "        \"max_depth\":trial.suggest_int(\"max_depth\",2,15),\n",
        "        \"learning_rate\":trial.suggest_loguniform(\"learning_rate\",0.05,0.5),\n",
        "        \"min_samples_leaf\":trial.suggest_int(\"min_samples_leaf\",1,20),\n",
        "\n",
        "\n",
        "    }\n",
        "    return(return_score(param))"
      ],
      "metadata": {
        "id": "o8xmdlN5x9BW"
      },
      "execution_count": null,
      "outputs": []
    },
    {
      "cell_type": "code",
      "source": [
        "study=optuna.create_study(direction=\"maximize\")\n",
        "study.optimize(objective,n_trials=300)\n",
        "\n"
      ],
      "metadata": {
        "id": "DN_mtZjfx9Ew"
      },
      "execution_count": null,
      "outputs": []
    },
    {
      "cell_type": "code",
      "source": [
        "trial=study.best_trial\n",
        "print(\"accuary:{}\".format(trial.value))\n"
      ],
      "metadata": {
        "id": "qjXE_zt4x9IJ"
      },
      "execution_count": null,
      "outputs": []
    },
    {
      "cell_type": "code",
      "source": [
        "# başarı oranı arttı"
      ],
      "metadata": {
        "id": "MtMM8mf0x9Lu"
      },
      "execution_count": null,
      "outputs": []
    },
    {
      "cell_type": "code",
      "source": [
        "#best hyperparametrs\n",
        "trial.params"
      ],
      "metadata": {
        "id": "KUdrQikwPJoc"
      },
      "execution_count": null,
      "outputs": []
    },
    {
      "cell_type": "code",
      "source": [
        "# Randomizedsearchcv"
      ],
      "metadata": {
        "id": "-w2oQnqMPJwy"
      },
      "execution_count": null,
      "outputs": []
    },
    {
      "cell_type": "code",
      "source": [
        "gbm_rs_params={\n",
        "    \n",
        "    \"learning_rate\":[0.1,0.01,0.3,0.03,0.05],\n",
        "    \"n_estimators\":np.arange(50,500,10),\n",
        "    \"min_samples_split\":np.arange(2,15,1),\n",
        "    \"max_depth\":np.arange(2,20,1),\n",
        "    \"min_samples_leaf\":np.arange(1,20,1),\n",
        "}"
      ],
      "metadata": {
        "id": "9Dkpms7zPJ0p"
      },
      "execution_count": null,
      "outputs": []
    },
    {
      "cell_type": "code",
      "source": [
        "from sklearn.model_selection import RandomizedSearchCV"
      ],
      "metadata": {
        "id": "OndV7l9LPJ3Q"
      },
      "execution_count": null,
      "outputs": []
    },
    {
      "cell_type": "code",
      "source": [
        "gbm_cv_rs=RandomizedSearchCV(gbm,gbm_rs_params,cv=5,n_jobs=-1,verbose=2).fit(X_train,y_train)"
      ],
      "metadata": {
        "id": "0YkfXKe_QXiz"
      },
      "execution_count": null,
      "outputs": []
    },
    {
      "cell_type": "code",
      "source": [
        "gbm_cv_rs.best_score_"
      ],
      "metadata": {
        "id": "f2EMkqW1QXl1"
      },
      "execution_count": null,
      "outputs": []
    },
    {
      "cell_type": "code",
      "source": [
        "# daha düşük başarı sonucu verdi,optuna en yüksek sonucu verdi,xgboost için deneyelim"
      ],
      "metadata": {
        "id": "SEkH_HbrRTeG"
      },
      "execution_count": null,
      "outputs": []
    },
    {
      "cell_type": "markdown",
      "source": [
        "<a id=\"7\"></a>\n",
        "## 7.XGBOOST"
      ],
      "metadata": {
        "id": "9zawdcqNuat8"
      }
    },
    {
      "cell_type": "code",
      "source": [
        "xgb=XGBRegressor().fit(X_train,y_train)"
      ],
      "metadata": {
        "id": "DXkGxxHCScw7"
      },
      "execution_count": null,
      "outputs": []
    },
    {
      "cell_type": "code",
      "source": [
        "xgb?"
      ],
      "metadata": {
        "id": "IJnNE6kfx8Er"
      },
      "execution_count": null,
      "outputs": []
    },
    {
      "cell_type": "code",
      "source": [
        "xgb.set_params"
      ],
      "metadata": {
        "id": "iiZfai6dXOUa"
      },
      "execution_count": null,
      "outputs": []
    },
    {
      "cell_type": "code",
      "source": [
        "# gridsearch cv ile deneme yapalım;"
      ],
      "metadata": {
        "id": "PbltAvT-x8Io"
      },
      "execution_count": null,
      "outputs": []
    },
    {
      "cell_type": "code",
      "source": [
        "xgb_params={\n",
        "    \"learning_rate\":[0.1,0.01,0.3,0.03],\n",
        "    \"n_estimators\":[100,150,200,250],\n",
        "    \"max_depth\":[2,3,4,5,6]\n",
        "\n",
        "\n",
        "\n",
        "    \n",
        "}"
      ],
      "metadata": {
        "id": "L5Wbw-sex8NP"
      },
      "execution_count": null,
      "outputs": []
    },
    {
      "cell_type": "code",
      "source": [
        "xgb_cv=GridSearchCV(xgb,xgb_params,cv=5,n_jobs=-1,verbose=2).fit(X_train,y_train)"
      ],
      "metadata": {
        "id": "iERbGTHovr4r"
      },
      "execution_count": null,
      "outputs": []
    },
    {
      "cell_type": "code",
      "source": [
        "xgb_cv.best_score_"
      ],
      "metadata": {
        "id": "GvvOrfSYuRqF"
      },
      "execution_count": null,
      "outputs": []
    },
    {
      "cell_type": "code",
      "source": [
        "# başarı düştü"
      ],
      "metadata": {
        "id": "Zvu6sQrqYOgD"
      },
      "execution_count": null,
      "outputs": []
    },
    {
      "cell_type": "code",
      "source": [
        "# optuna ile deneyelim;"
      ],
      "metadata": {
        "id": "o_jsG-GHYRVi"
      },
      "execution_count": null,
      "outputs": []
    },
    {
      "cell_type": "code",
      "source": [
        "def return_score(param):\n",
        "    model=XGBRegressor(**param).fit(X_train,y_train)\n",
        "    acc=model.score(X_test,y_test)\n",
        "    return acc"
      ],
      "metadata": {
        "id": "8clucGYbYUbu"
      },
      "execution_count": null,
      "outputs": []
    },
    {
      "cell_type": "code",
      "source": [
        "def objective(trial):\n",
        "    param={\n",
        "        \"n_estimators\":trial.suggest_int(\"n_estimators\",100,500),\n",
        "        \"max_depth\":trial.suggest_int(\"max_depth\",2,15),\n",
        "        \"learning_rate\":trial.suggest_loguniform(\"learning_rate\",0.05,0.5),\n",
        "\n",
        "\n",
        "    }\n",
        "    return(return_score(param))"
      ],
      "metadata": {
        "id": "4P7DZNboYc2R"
      },
      "execution_count": null,
      "outputs": []
    },
    {
      "cell_type": "code",
      "source": [
        "study=optuna.create_study(direction=\"maximize\")\n",
        "study.optimize(objective,n_trials=300)\n",
        "\n"
      ],
      "metadata": {
        "id": "z2pVDrUyYqyi"
      },
      "execution_count": null,
      "outputs": []
    },
    {
      "cell_type": "code",
      "source": [
        "trial=study.best_trial\n",
        "print(\"accuary:{}\".format(trial.value))\n"
      ],
      "metadata": {
        "id": "Gy80HN40YwCY"
      },
      "execution_count": null,
      "outputs": []
    },
    {
      "cell_type": "code",
      "source": [
        "# başarı oranı xgboost için arttı"
      ],
      "metadata": {
        "id": "adGX5eouZYYM"
      },
      "execution_count": null,
      "outputs": []
    },
    {
      "cell_type": "code",
      "source": [
        "# en iyi başarı sonucunu xgboost için bulduk,model oluşturabiliriz"
      ],
      "metadata": {
        "id": "tiT7HvA5ZdQi"
      },
      "execution_count": null,
      "outputs": []
    },
    {
      "cell_type": "code",
      "source": [
        "#best hyperparametrs\n",
        "trial.params"
      ],
      "metadata": {
        "id": "EtDHhI7nZnrT"
      },
      "execution_count": null,
      "outputs": []
    },
    {
      "cell_type": "code",
      "source": [
        "xgb_tun=XGBRegressor(**trial.params).fit(X_train,y_train)"
      ],
      "metadata": {
        "id": "_kHlUoDBZs6o"
      },
      "execution_count": null,
      "outputs": []
    },
    {
      "cell_type": "code",
      "source": [
        "xgb_tun.score(X_test,y_test)"
      ],
      "metadata": {
        "id": "7W54nwkGZ4QM"
      },
      "execution_count": null,
      "outputs": []
    },
    {
      "cell_type": "code",
      "source": [
        "# submission yapalım;"
      ],
      "metadata": {
        "id": "DOQKezHHaAu4"
      },
      "execution_count": null,
      "outputs": []
    },
    {
      "cell_type": "code",
      "source": [
        "predicted = xgb_tun.predict(df_test)"
      ],
      "metadata": {
        "id": "PqU8yBFmad8d"
      },
      "execution_count": null,
      "outputs": []
    },
    {
      "cell_type": "code",
      "source": [
        "df_sub.loc[:,\"saleprice\"] = predicted"
      ],
      "metadata": {
        "id": "ffxC8VxBakXr"
      },
      "execution_count": null,
      "outputs": []
    },
    {
      "cell_type": "code",
      "source": [
        "submission = df_sub.astype(int)"
      ],
      "metadata": {
        "id": "7EaXN16Fa2FR"
      },
      "execution_count": null,
      "outputs": []
    },
    {
      "cell_type": "code",
      "source": [
        "submission"
      ],
      "metadata": {
        "id": "KTQwdvi9a-iK"
      },
      "execution_count": null,
      "outputs": []
    },
    {
      "cell_type": "code",
      "source": [
        "submission=submission[[\"Id\",\"saleprice\"]]\n",
        "submission"
      ],
      "metadata": {
        "id": "bAt4u1EBb6Zy"
      },
      "execution_count": null,
      "outputs": []
    },
    {
      "cell_type": "code",
      "source": [
        "submission.to_csv('submission.csv',index=False)"
      ],
      "metadata": {
        "id": "ARX4NgsebHau"
      },
      "execution_count": null,
      "outputs": []
    },
    {
      "cell_type": "code",
      "source": [
        "# 0.14 hata oranı ile yarışmayı bitirdik,"
      ],
      "metadata": {
        "id": "8xWbbidocYU0"
      },
      "execution_count": null,
      "outputs": []
    },
    {
      "cell_type": "code",
      "source": [],
      "metadata": {
        "id": "AS8eLD7le9el"
      },
      "execution_count": null,
      "outputs": []
    }
  ]
}